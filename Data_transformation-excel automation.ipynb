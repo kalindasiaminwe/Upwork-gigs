{
 "cells": [
  {
   "cell_type": "markdown",
   "source": [
    "371,056 rows. 21 Columns"
   ],
   "metadata": {
    "collapsed": false
   }
  },
  {
   "cell_type": "code",
   "execution_count": 9,
   "outputs": [],
   "source": [
    "import csv\n",
    "import openpyxl\n",
    "\n",
    "# Open the input TSV file and read its contents into a list of dictionaries\n",
    "with open('input.csv', 'r') as input_file:\n",
    "    reader = csv.DictReader(input_file, delimiter='\\t')\n",
    "    rows = list(reader)\n",
    "\n",
    "# Define a function to format a date string in the format \"dd/mm/yyyy\"\n",
    "def format_date(date_str):\n",
    "    if not date_str:\n",
    "        return ''\n",
    "    else:\n",
    "        date_parts = date_str.split('/')\n",
    "        if len(date_parts) == 3:\n",
    "            year = int(date_parts[2])\n",
    "            if year < 100:\n",
    "                year = year + 1900 if year >= 30 else year + 2000\n",
    "                year = str(year).zfill(2)\n",
    "            else:\n",
    "                year = str(year)\n",
    "            return f\"{date_parts[1]}/{date_parts[0]}/{year}\"\n",
    "        else:\n",
    "            return ''\n",
    "\n",
    "\n",
    "\n",
    "# Open a new Excel workbook and create a new worksheet\n",
    "workbook = openpyxl.Workbook()\n",
    "worksheet = workbook.active\n",
    "\n",
    "# Write the header row to the worksheet\n",
    "header_row = ['Email', 'Full Name', 'First Name', 'Middle Name', 'Last Name', 'Suffix', 'Office Name', 'Office Address1', 'Office Address2', 'Office City', 'Office State', 'Office Zip', 'Office County', 'Office Phone', 'Office Fax', 'Cell Phone', 'License Type', 'License Number', 'Original Issue Date', 'Expiration Date', 'Association']\n",
    "worksheet.append(header_row)\n",
    "\n",
    "# Write the formatted rows to the worksheet\n",
    "for row in rows:\n",
    "    formatted_row = [\n",
    "        row['Email'],\n",
    "        row['Full Name'],\n",
    "        row['First Name'],\n",
    "        row['Middle Name'],\n",
    "        row['Last Name'],\n",
    "        row['Suffix'],\n",
    "        row['Office Name'],\n",
    "        row['Office Address1'],\n",
    "        row['Office Address2'],\n",
    "        row['Office City'],\n",
    "        row['Office State'],\n",
    "        row['Office Zip'].replace('-', ''),\n",
    "        row['Office County'],\n",
    "        row['Office Phone'],\n",
    "        row['Office Fax'],\n",
    "        row['Cell Phone'],\n",
    "        row['License Type'],\n",
    "        row['License Number'],\n",
    "        format_date(row['Original Issue Date']),\n",
    "        format_date(row['Expiration Date']),\n",
    "        row['Association']\n",
    "    ]\n",
    "    formatted_row[11] = f\"{formatted_row[11][:5]}-{formatted_row[11][5:]}\"  # add hyphen to Office Zip\n",
    "    worksheet.append(formatted_row)\n",
    "\n",
    "# Save the Excel workbook to a file\n",
    "workbook.save('output.xlsx')\n"
   ],
   "metadata": {
    "collapsed": false
   }
  },
  {
   "cell_type": "code",
   "execution_count": 11,
   "outputs": [],
   "source": [
    "# Fixing \"Office Zip\" column:\n",
    "#\n",
    "# Some values contained a hyphen(-) at the end which needed to be stripped off. I saved the column into a separate csv file and input it in the code below. Merged the output file to the file above.\n",
    "\n",
    "import csv\n",
    "\n",
    "# Open the input CSV file\n",
    "with open('output.csv', 'r') as input_file:\n",
    "\n",
    "    # Create a CSV reader object\n",
    "    reader = csv.reader(input_file)\n",
    "\n",
    "    # Initialize an empty list to store the modified rows\n",
    "    modified_rows = []\n",
    "\n",
    "    # Loop through each row in the input CSV file\n",
    "    for row in reader:\n",
    "\n",
    "        # Loop through each column in the row\n",
    "        for i in range(len(row)):\n",
    "\n",
    "            # Check if the last character in the cell is a hyphen\n",
    "            if row[i][-1] == '-' and row[i][:-1].isdigit():\n",
    "\n",
    "                # Remove the hyphen from the end of the number\n",
    "                row[i] = row[i][:-1]\n",
    "\n",
    "        # Add the modified row to the list of modified rows\n",
    "        modified_rows.append(row)\n",
    "\n",
    "# Open the output CSV file\n",
    "with open('final.csv', 'w', newline='') as output_file:\n",
    "\n",
    "    # Create a CSV writer object\n",
    "    writer = csv.writer(output_file)\n",
    "\n",
    "    # Write each modified row to the output CSV file\n",
    "    for row in modified_rows:\n",
    "        writer.writerow(row)\n"
   ],
   "metadata": {
    "collapsed": false
   }
  },
  {
   "cell_type": "code",
   "execution_count": null,
   "outputs": [],
   "source": [],
   "metadata": {
    "collapsed": false
   }
  }
 ],
 "metadata": {
  "kernelspec": {
   "display_name": "Python 3",
   "language": "python",
   "name": "python3"
  },
  "language_info": {
   "codemirror_mode": {
    "name": "ipython",
    "version": 2
   },
   "file_extension": ".py",
   "mimetype": "text/x-python",
   "name": "python",
   "nbconvert_exporter": "python",
   "pygments_lexer": "ipython2",
   "version": "2.7.6"
  }
 },
 "nbformat": 4,
 "nbformat_minor": 0
}
