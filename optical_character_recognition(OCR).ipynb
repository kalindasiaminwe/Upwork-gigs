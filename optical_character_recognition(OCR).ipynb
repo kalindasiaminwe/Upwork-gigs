{
 "cells": [
  {
   "cell_type": "markdown",
   "source": [
    "Job Description:\n",
    "Looking for some freelancers who can retype my screenshot documents to MS Word format."
   ],
   "metadata": {
    "collapsed": false
   }
  },
  {
   "cell_type": "code",
   "execution_count": null,
   "metadata": {
    "collapsed": true
   },
   "outputs": [],
   "source": [
    "!pip install pytesseract Pillow"
   ]
  },
  {
   "cell_type": "code",
   "execution_count": null,
   "outputs": [],
   "source": [
    "# Import the necessary libraries\n",
    "import pytesseract\n",
    "from PIL import Image\n",
    "\n",
    "# Set the path to the Tesseract-OCR executable file\n",
    "pytesseract.pytesseract.tesseract_cmd = r'C:\\Program Files\\Tesseract-OCR\\tesseract.exe'\n",
    "\n",
    "# Open the image file\n",
    "image = Image.open('Screenshot (5).png')\n",
    "\n",
    "# Convert the image to grayscale\n",
    "image = image.convert('L')\n",
    "\n",
    "# Use pytesseract to extract text from the image\n",
    "text = pytesseract.image_to_string(image)\n",
    "\n",
    "# Print the extracted text\n",
    "print(text)\n"
   ],
   "metadata": {
    "collapsed": false,
    "pycharm": {
     "is_executing": true
    }
   }
  },
  {
   "cell_type": "code",
   "execution_count": null,
   "outputs": [],
   "source": [],
   "metadata": {
    "collapsed": false
   }
  }
 ],
 "metadata": {
  "kernelspec": {
   "display_name": "Python 3",
   "language": "python",
   "name": "python3"
  },
  "language_info": {
   "codemirror_mode": {
    "name": "ipython",
    "version": 2
   },
   "file_extension": ".py",
   "mimetype": "text/x-python",
   "name": "python",
   "nbconvert_exporter": "python",
   "pygments_lexer": "ipython2",
   "version": "2.7.6"
  }
 },
 "nbformat": 4,
 "nbformat_minor": 0
}
