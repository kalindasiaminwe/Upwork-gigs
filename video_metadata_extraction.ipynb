{
 "cells": [
  {
   "cell_type": "code",
   "execution_count": null,
   "metadata": {
    "collapsed": true
   },
   "outputs": [],
   "source": [
    "import av"
   ]
  },
  {
   "cell_type": "code",
   "execution_count": 5,
   "outputs": [],
   "source": [
    "import av\n",
    "import pandas as pd\n",
    "import openpyxl\n",
    "\n",
    "container = av.open('Tute1_ Basic Image Processing with ImageJ.mp4')\n",
    "video_stream = next(s for s in container.streams if s.type == 'video')\n",
    "video_stream_codec = video_stream.codec_context.codec\n",
    "\n",
    "metadata_list = []\n",
    "interval = 0.25  # time interval in seconds\n",
    "current_time = 0\n",
    "\n",
    "for frame in container.decode(video=0):\n",
    "    timestamp = round(frame.time / interval) * interval\n",
    "    if timestamp >= current_time:\n",
    "        metadata = {'timestamp': timestamp, 'longitude': frame.pts, 'latitude': frame.pts, 'height': frame.pts}\n",
    "        metadata_list.append(metadata)\n",
    "        current_time = timestamp + interval\n",
    "\n",
    "metadata_df = pd.DataFrame(metadata_list)\n",
    "metadata_df.to_excel('metadata.xlsx', index=False)\n"
   ],
   "metadata": {
    "collapsed": false
   }
  },
  {
   "cell_type": "code",
   "execution_count": null,
   "outputs": [],
   "source": [],
   "metadata": {
    "collapsed": false
   }
  }
 ],
 "metadata": {
  "kernelspec": {
   "display_name": "Python 3",
   "language": "python",
   "name": "python3"
  },
  "language_info": {
   "codemirror_mode": {
    "name": "ipython",
    "version": 2
   },
   "file_extension": ".py",
   "mimetype": "text/x-python",
   "name": "python",
   "nbconvert_exporter": "python",
   "pygments_lexer": "ipython2",
   "version": "2.7.6"
  }
 },
 "nbformat": 4,
 "nbformat_minor": 0
}
